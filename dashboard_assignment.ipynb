{
 "cells": [
  {
   "cell_type": "code",
   "execution_count": 675,
   "metadata": {},
   "outputs": [],
   "source": [
    "import plotly.graph_objects as go \n",
    "import pandas as pd\n",
    "import os\n",
    "import dash\n",
    "from dash import dcc,html, dash_table\n",
    "from dash.dependencies import Input, Output\n",
    "import dash_bootstrap_components as dbc\n",
    "from datetime import datetime"
   ]
  },
  {
   "cell_type": "code",
   "execution_count": 676,
   "metadata": {},
   "outputs": [],
   "source": [
    "data = pd.read_csv('C:\\\\Users\\\\aport\\\\OneDrive\\\\Documents\\\\School\\\\Fall Semester 2024\\\\Telling Stories w Data\\\\dashboard-assignment\\\\query-results.txt'\n",
    "                   ,sep = '\\t', on_bad_lines = 'skip')"
   ]
  },
  {
   "cell_type": "code",
   "execution_count": 677,
   "metadata": {},
   "outputs": [
    {
     "data": {
      "text/html": [
       "<div>\n",
       "<style scoped>\n",
       "    .dataframe tbody tr th:only-of-type {\n",
       "        vertical-align: middle;\n",
       "    }\n",
       "\n",
       "    .dataframe tbody tr th {\n",
       "        vertical-align: top;\n",
       "    }\n",
       "\n",
       "    .dataframe thead th {\n",
       "        text-align: right;\n",
       "    }\n",
       "</style>\n",
       "<table border=\"1\" class=\"dataframe\">\n",
       "  <thead>\n",
       "    <tr style=\"text-align: right;\">\n",
       "      <th></th>\n",
       "      <th>state</th>\n",
       "      <th>location</th>\n",
       "      <th>time_posted</th>\n",
       "      <th>name</th>\n",
       "      <th>make</th>\n",
       "      <th>model</th>\n",
       "      <th>year</th>\n",
       "      <th>odometer</th>\n",
       "      <th>price</th>\n",
       "      <th>predicted_price</th>\n",
       "      <th>...</th>\n",
       "      <th>drive</th>\n",
       "      <th>cylinders</th>\n",
       "      <th>fuel</th>\n",
       "      <th>type</th>\n",
       "      <th>transmission</th>\n",
       "      <th>condition</th>\n",
       "      <th>title_text</th>\n",
       "      <th>latitude</th>\n",
       "      <th>longitude</th>\n",
       "      <th>url</th>\n",
       "    </tr>\n",
       "  </thead>\n",
       "  <tbody>\n",
       "    <tr>\n",
       "      <th>12433</th>\n",
       "      <td>Sport Utility 4D</td>\n",
       "      <td>46.6054</td>\n",
       "      <td>-120.4224</td>\n",
       "      <td>https://yakima.craigslist.org/cto/d/yakima-200...</td>\n",
       "      <td>NaN</td>\n",
       "      <td>NaN</td>\n",
       "      <td>NaN</td>\n",
       "      <td>NaN</td>\n",
       "      <td>NaN</td>\n",
       "      <td>NaN</td>\n",
       "      <td>...</td>\n",
       "      <td>NaN</td>\n",
       "      <td>NaN</td>\n",
       "      <td>NaN</td>\n",
       "      <td>NaN</td>\n",
       "      <td>NaN</td>\n",
       "      <td>NaN</td>\n",
       "      <td>NaN</td>\n",
       "      <td>NaN</td>\n",
       "      <td>NaN</td>\n",
       "      <td>NaN</td>\n",
       "    </tr>\n",
       "  </tbody>\n",
       "</table>\n",
       "<p>1 rows × 22 columns</p>\n",
       "</div>"
      ],
      "text/plain": [
       "                  state location  time_posted  \\\n",
       "12433  Sport Utility 4D  46.6054    -120.4224   \n",
       "\n",
       "                                                    name make model  year  \\\n",
       "12433  https://yakima.craigslist.org/cto/d/yakima-200...  NaN   NaN   NaN   \n",
       "\n",
       "       odometer  price  predicted_price  ... drive cylinders fuel type  \\\n",
       "12433       NaN    NaN              NaN  ...   NaN       NaN  NaN  NaN   \n",
       "\n",
       "      transmission condition title_text latitude longitude  url  \n",
       "12433          NaN       NaN        NaN      NaN       NaN  NaN  \n",
       "\n",
       "[1 rows x 22 columns]"
      ]
     },
     "execution_count": 677,
     "metadata": {},
     "output_type": "execute_result"
    }
   ],
   "source": [
    "data.loc[data['state'] == 'Sport Utility 4D']"
   ]
  },
  {
   "cell_type": "code",
   "execution_count": 678,
   "metadata": {},
   "outputs": [],
   "source": [
    "data.drop(12433,axis = 0,inplace= True)\n",
    "data.reset_index(inplace=True)"
   ]
  },
  {
   "cell_type": "code",
   "execution_count": 679,
   "metadata": {},
   "outputs": [],
   "source": [
    "data['location'] = data['location'].str.title()\n",
    "\n",
    "data['make'] = data['make'].str.title()\n",
    "\n",
    "data.loc[data['location'] == 'Kpr','location'] = 'Tri-Cities'\n",
    "\n",
    "data = data[data['predicted_price'] > 0]"
   ]
  },
  {
   "cell_type": "code",
   "execution_count": 680,
   "metadata": {},
   "outputs": [],
   "source": [
    "columns_to_drop = ['index','latitude','longitude','title_text']\n"
   ]
  },
  {
   "cell_type": "code",
   "execution_count": 681,
   "metadata": {},
   "outputs": [],
   "source": [
    "data['time_posted'] = pd.to_datetime(data['time_posted'],unit = 's')"
   ]
  },
  {
   "cell_type": "code",
   "execution_count": 682,
   "metadata": {},
   "outputs": [],
   "source": [
    "data['time_posted'] = data['time_posted'].apply(lambda x: x.strftime(\"%Y-%m-%d\"))"
   ]
  },
  {
   "cell_type": "code",
   "execution_count": 683,
   "metadata": {},
   "outputs": [],
   "source": [
    "unique_states = data.drop_duplicates(subset = ['state'])['state']\n",
    "unique_cities = data.drop_duplicates(subset= ['location'])['location']"
   ]
  },
  {
   "cell_type": "code",
   "execution_count": 684,
   "metadata": {},
   "outputs": [],
   "source": [
    "state_options = [{'label': f\"{state}\", 'value': f\"{state}\"} for state in unique_states.values]\n",
    "\n",
    "state_options.insert(0, {'label': 'All States', 'value': 'All'})\n",
    "cities_options =  data.drop_duplicates(subset=['location', 'state'])[['location', 'state']]\n"
   ]
  },
  {
   "cell_type": "code",
   "execution_count": 685,
   "metadata": {},
   "outputs": [],
   "source": [
    "car_options = data.drop_duplicates(subset='make')"
   ]
  },
  {
   "cell_type": "code",
   "execution_count": 686,
   "metadata": {},
   "outputs": [],
   "source": [
    "app = dash.Dash(__name__,external_stylesheets=[dbc.themes.BOOTSTRAP])"
   ]
  },
  {
   "cell_type": "code",
   "execution_count": 687,
   "metadata": {},
   "outputs": [],
   "source": [
    "app.layout = html.Div([\n",
    "    html.H1(children='PNW Car Search Dashboard'),\n",
    "            dcc.Dropdown(id = 'state-dropdown',\n",
    "                       options = state_options,\n",
    "                       value = ['All'],\n",
    "                       multi = True),\n",
    "            dcc.Dropdown(id = 'city-dropdown',\n",
    "                         options = [],\n",
    "                         value = ['All'],\n",
    "                         multi = True),\n",
    " \n",
    "               dcc.Dropdown(\n",
    "        id='sort-dropdown',\n",
    "        options=[\n",
    "            {'label': 'Price: Low to High', 'value': 'ascending'},\n",
    "            {'label': 'Price: High to Low', 'value': 'descending'}\n",
    "        ],\n",
    "        value='ascending', \n",
    "    ),\n",
    "                dcc.Dropdown(\n",
    "                    id = 'time-dropdown',\n",
    "                    options = [\n",
    "                        {'label':'Newest','value':'descending'},\n",
    "                        {'label':'Oldest', 'value': 'ascending'}\n",
    "                    ],\n",
    "                    value = 'descending'\n",
    "                ),\n",
    "\n",
    "                dcc.Dropdown(id = 'make-dropdown',\n",
    "                    options = [{'label':make,'value':make}for make in car_options['make']],\n",
    "                    value = ['All'],\n",
    "                    multi = True),\n",
    "\n",
    "                dcc.Slider(id = 'price-slider',\n",
    "                    min = data['price'].min(),\n",
    "                    max = data['price'].max(),\n",
    "                    step = 500,\n",
    "                    value = data['price'].max(),\n",
    "                    marks = {i:f\"{i}\" for i in range(int(data['price'].min()),int(data['price'].max()),10000)},\n",
    "                    tooltip={'placement':'bottom','always_visible': True}),\n",
    "                \n",
    "\n",
    "    dbc.Tabs([\n",
    "        dbc.Tab(label='Car Listings Table', tab_id='tab-table'),\n",
    "        dbc.Tab(label='Map of Car Listings', tab_id='tab-map'),\n",
    "        dbc.Tab(label='Median Car Price', tab_id='tab-median')\n",
    "    ], id='tabs', active_tab='tab-table'),\n",
    "\n",
    "\n",
    "    html.Div(id='tab-content')\n",
    "])\n",
    "\n"
   ]
  },
  {
   "cell_type": "code",
   "execution_count": 688,
   "metadata": {},
   "outputs": [],
   "source": [
    "@app.callback(\n",
    "    Output(component_id='city-dropdown', component_property='options'),\n",
    "    Input(component_id='state-dropdown', component_property='value')\n",
    ")\n",
    "def update_city_dropdown(selected_states):\n",
    "    if 'All' in selected_states:\n",
    "        # If \"All\" is selected, show all locations\n",
    "        filtered_locations = cities_options\n",
    "    else:\n",
    "        # Filter unique locations based on the selected states\n",
    "        filtered_locations = cities_options[cities_options['state'].isin(selected_states)]\n",
    "    \n",
    "    city_options = [{'label': loc, 'value': loc} for loc in filtered_locations['location'].unique()]\n",
    "    city_options.insert(0, {'label': 'All Locations', 'value': 'All'})\n",
    "    \n",
    "    return city_options\n"
   ]
  },
  {
   "cell_type": "code",
   "execution_count": 689,
   "metadata": {},
   "outputs": [],
   "source": [
    "@app.callback(\n",
    "    Output('tab-content', 'children'),\n",
    "    [Input('tabs', 'active_tab'),\n",
    "     Input('state-dropdown', 'value'),\n",
    "     Input('city-dropdown', 'value'),\n",
    "     Input('price-slider', 'value'),\n",
    "     Input('sort-dropdown', 'value'),\n",
    "     Input('time-dropdown','value'),\n",
    "     Input('make-dropdown','value')]\n",
    ")\n",
    "\n",
    "def update_tab_content(active_tab, selected_states, selected_cities, selected_price, sort_order,time_order,selected_makes):\n",
    "    # Filter the data based on selected state, city, and price range\n",
    "    \n",
    "    if 'All' in selected_states:\n",
    "        filtered_cars = data[data['price'] <= selected_price]\n",
    "    else:\n",
    "        filtered_cars = data[(data['state'].isin(selected_states)) & (data['price'] <= selected_price)]\n",
    "    \n",
    "    if 'All' not in selected_cities and selected_cities:\n",
    "        filtered_cars = filtered_cars[filtered_cars['location'].isin(selected_cities)]\n",
    "\n",
    "    if 'All' not in selected_makes and selected_makes:\n",
    "        filtered_cars = filtered_cars[filtered_cars['make'].isin(selected_makes)]\n",
    "    # Sort the data based on the selected sort order\n",
    "    if sort_order == 'ascending':\n",
    "        filtered_cars = filtered_cars.sort_values(by='price', ascending=True)\n",
    "    else:\n",
    "        filtered_cars = filtered_cars.sort_values(by='price', ascending=False)\n",
    "\n",
    "    #sort data base on time_posted\n",
    "    if time_order == 'descending':\n",
    "        filtered_cars = filtered_cars.sort_values(by='time_posted', ascending=False)\n",
    "    else:\n",
    "        filtered_cars = filtered_cars.sort_values(by='time_posted', ascending=True)\n",
    "\n",
    "    if active_tab == 'tab-table':\n",
    "        # Create a table of car listings\n",
    "        filtered_cars = filtered_cars.drop(columns_to_drop,axis =1)\n",
    "        return dash_table.DataTable(\n",
    "            columns=[{\"name\": col, \"id\": col} for col in filtered_cars.columns],\n",
    "            data=filtered_cars.to_dict('records'),\n",
    "            style_table={'overflowX': 'auto'}\n",
    "        )\n",
    "    \n",
    "    elif active_tab == 'tab-map':\n",
    "        # Create a map of car listings using Plotly Scattermapbox\n",
    "        map_fig = go.Figure(go.Scattermapbox(\n",
    "            lat=filtered_cars['latitude'],\n",
    "            lon=filtered_cars['longitude'],\n",
    "            mode='markers',\n",
    "            marker=go.scattermapbox.Marker(size=9, opacity= .4,color = 'blue'),\n",
    "            text=filtered_cars['make']\n",
    "        ))\n",
    "        map_fig.update_layout(\n",
    "            mapbox_style=\"open-street-map\",\n",
    "            mapbox=dict(\n",
    "                center=go.layout.mapbox.Center(\n",
    "                    lat=filtered_cars['latitude'].mean(),\n",
    "                    lon=filtered_cars['longitude'].mean()\n",
    "                ),\n",
    "                zoom=5\n",
    "            ),\n",
    "            margin={\"r\":0,\"t\":0,\"l\":0,\"b\":0}\n",
    "        )\n",
    "        return dcc.Graph(id = 'car-map',figure=map_fig)\n",
    "\n",
    "    elif active_tab == 'tab-median':\n",
    "        # Calculate and display median price\n",
    "        median_price = filtered_cars['price'].median()\n",
    "        median_fig = go.Figure(go.Indicator(\n",
    "            mode=\"number\",\n",
    "            value=median_price,\n",
    "            title={\"text\": f\"Median Car Price in Selected Area\"}\n",
    "        ))\n",
    "        return dcc.Graph(figure=median_fig)\n",
    "\n",
    "    return None\n"
   ]
  },
  {
   "cell_type": "code",
   "execution_count": 690,
   "metadata": {},
   "outputs": [
    {
     "data": {
      "text/html": [
       "\n",
       "        <iframe\n",
       "            width=\"100%\"\n",
       "            height=\"650\"\n",
       "            src=\"http://127.0.0.1:8050/\"\n",
       "            frameborder=\"0\"\n",
       "            allowfullscreen\n",
       "            \n",
       "        ></iframe>\n",
       "        "
      ],
      "text/plain": [
       "<IPython.lib.display.IFrame at 0x2817ed60440>"
      ]
     },
     "metadata": {},
     "output_type": "display_data"
    }
   ],
   "source": [
    "if __name__ == '__main__':\n",
    "    app.run_server()"
   ]
  },
  {
   "cell_type": "code",
   "execution_count": null,
   "metadata": {},
   "outputs": [],
   "source": []
  }
 ],
 "metadata": {
  "kernelspec": {
   "display_name": "Python 3",
   "language": "python",
   "name": "python3"
  },
  "language_info": {
   "codemirror_mode": {
    "name": "ipython",
    "version": 3
   },
   "file_extension": ".py",
   "mimetype": "text/x-python",
   "name": "python",
   "nbconvert_exporter": "python",
   "pygments_lexer": "ipython3",
   "version": "3.12.4"
  }
 },
 "nbformat": 4,
 "nbformat_minor": 2
}
